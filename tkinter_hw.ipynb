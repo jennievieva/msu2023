{
 "cells": [
  {
   "cell_type": "code",
   "execution_count": 13,
   "metadata": {},
   "outputs": [],
   "source": [
    "from tkinter import *\n",
    "from tkinter import messagebox\n",
    "from math import *\n",
    "\n",
    "\n",
    "# специальная функция - отрисовка канваса по параметрам\n",
    "def my_action():\n",
    "    frm = int(e1.get())\n",
    "    to   = int(e2.get())\n",
    "    color = colors.get() # получаем выбранный цвет\n",
    "    for i in range( frm, to):\n",
    "        canvas.create_line(i,10*sin(i)+150, i+1, 10*sin(i)+150, fill=color, width=10)\n",
    "\n",
    "        \n",
    "# а теперь за главное окно будет отвечать переменная master\n",
    "master = Tk()\n",
    "master.title('Рисуем')\n",
    "\n",
    "canvas = Canvas(master, width=800, height=400, background='black')\n",
    "canvas.grid(row=1, column=0)\n",
    "\n",
    "\n",
    "# виджет Label - просто надпись\n",
    "l1 = Label(master, text='t0')\n",
    "l1.grid(row=2, column=0, sticky='e')\n",
    "l2 = Label(master, text='t1')\n",
    "l2.grid(row=3, column=0, sticky='e')\n",
    "\n",
    "# виджет Entry - поле ввода текстовой информации. \n",
    "e1 = Entry(master)\n",
    "e2 = Entry(master)\n",
    "e1.grid(row=2, column=1)\n",
    "e2.grid(row=3, column=1)\n",
    "\n",
    "\n",
    "# виджет Radiobutton - кнопка со значением, выбор которой сохраняется в переменную colors\n",
    "colors = StringVar()\n",
    "colors.set('red') # начальный выбранный цвет\n",
    "r1 = Radiobutton(master, text='Красный', variable=colors, value='red')\n",
    "r1.grid(row=5, column=1)\n",
    "r2 = Radiobutton(master, text='Зеленый', variable=colors, value='green')\n",
    "r2.grid(row=5, column=2)\n",
    "r3 = Radiobutton(master, text='Синий', variable=colors, value='blue')\n",
    "r3.grid(row=5, column=3)\n",
    "\n",
    "\n",
    "# виджет Button() - кнопка с текстом, нажатие на которую вызывает \n",
    "# выполнение команды-функции, переданной в параметрах. Сама функция\n",
    "# описана 19 строками выше\n",
    "b1 = Button(master, text=\"Draw!\", command = my_action)\n",
    "b1.grid(row=4, column = 1)\n",
    "\n",
    "master.mainloop()"
   ]
  }
 ],
 "metadata": {
  "kernelspec": {
   "display_name": "Python 3",
   "language": "python",
   "name": "python3"
  },
  "language_info": {
   "codemirror_mode": {
    "name": "ipython",
    "version": 3
   },
   "file_extension": ".py",
   "mimetype": "text/x-python",
   "name": "python",
   "nbconvert_exporter": "python",
   "pygments_lexer": "ipython3",
   "version": "3.8.5"
  },
  "vscode": {
   "interpreter": {
    "hash": "f08154012ddadd8e950e6e9e035c7a7b32c136e7647e9b7c77e02eb723a8bedb"
   }
  }
 },
 "nbformat": 4,
 "nbformat_minor": 2
}
