{
 "cells": [
  {
   "cell_type": "markdown",
   "metadata": {},
   "source": [
    "# Часть 1. Построение апроксимирующей прямой методом МНК"
   ]
  },
  {
   "cell_type": "code",
   "execution_count": 2,
   "metadata": {},
   "outputs": [],
   "source": [
    "import pandas as pd\n",
    "import matplotlib.pyplot as plt\n",
    "import numpy as np"
   ]
  },
  {
   "cell_type": "code",
   "execution_count": 3,
   "metadata": {},
   "outputs": [
    {
     "name": "stdout",
     "output_type": "stream",
     "text": [
      "    x      y\n",
      "0   0  10.20\n",
      "1  10  10.05\n",
      "2  20   9.95\n",
      "3  22   9.94\n",
      "4  30   9.92\n"
     ]
    }
   ],
   "source": [
    "# Загружаем данные \n",
    "filename = 'part_1.xlsx'\n",
    "data = pd.read_excel(filename)\n",
    "print(data.head())"
   ]
  },
  {
   "cell_type": "code",
   "execution_count": 21,
   "metadata": {},
   "outputs": [],
   "source": [
    "# Превратим х и у в отдельные массивы\n",
    "x = data['x']\n",
    "y = data['y']"
   ]
  },
  {
   "cell_type": "code",
   "execution_count": 22,
   "metadata": {},
   "outputs": [
    {
     "name": "stdout",
     "output_type": "stream",
     "text": [
      "-0.006658815665230282 9.555503209038605\n"
     ]
    }
   ],
   "source": [
    "# Посчитаем коэффициенты прямой по формулам\n",
    "n = len(x)\n",
    "x_middle = sum(x)/n\n",
    "y_middle = sum(y)/n\n",
    "k = sum((x - x_middle) * (y - y_middle))/sum((x - x_middle) ** 2)\n",
    "b = y_middle - k*x_middle\n",
    "print(k, b)"
   ]
  },
  {
   "cell_type": "code",
   "execution_count": 28,
   "metadata": {},
   "outputs": [
    {
     "data": {
      "image/png": "[encoded data removed]",
      "text/plain": [
       "<Figure size 432x288 with 1 Axes>"
      ]
     },
     "metadata": {
      "needs_background": "light"
     },
     "output_type": "display_data"
    }
   ],
   "source": [
    "# Построим график\n",
    "plt.scatter(x, y)\n",
    "z = k*x + b\n",
    "plt.plot(x, z, color = 'red')\n",
    "plt.xlabel('x')\n",
    "plt.ylabel('y')\n",
    "plt.xlim(0)\n",
    "plt.show()"
   ]
  },
  {
   "cell_type": "markdown",
   "metadata": {},
   "source": [
    "# Часть 2. Вычисление полинома Лагранжа"
   ]
  },
  {
   "cell_type": "code",
   "execution_count": 7,
   "metadata": {},
   "outputs": [
    {
     "name": "stdout",
     "output_type": "stream",
     "text": [
      "   Salinity  Pres\n",
      "0     233.0     0\n",
      "1     232.5     8\n",
      "2     232.8    10\n",
      "3     234.1    19\n",
      "4     234.0    20\n",
      "5       NaN    30\n",
      "6     233.0    39\n",
      "7     231.0    50\n",
      "8     228.5    58\n",
      "9     220.1    75\n"
     ]
    }
   ],
   "source": [
    "# Загружаем данные\n",
    "filename2 = 'part_2.xlsx'\n",
    "data2 = pd.read_excel(filename2)\n",
    "print(data2.head(10))"
   ]
  },
  {
   "cell_type": "code",
   "execution_count": 8,
   "metadata": {},
   "outputs": [
    {
     "name": "stdout",
     "output_type": "stream",
     "text": [
      "   Salinity  Pres\n",
      "0     233.0     0\n",
      "1     232.5     8\n",
      "2     232.8    10\n",
      "3     234.1    19\n",
      "4     234.0    20\n",
      "5     233.0    39\n",
      "6     231.0    50\n",
      "7     228.5    58\n",
      "8     220.1    75\n",
      "9     218.6    78\n"
     ]
    }
   ],
   "source": [
    "# Избавимся от строчек с неопределёнными значениями\n",
    "data2 = data2.dropna()\n",
    "data2 = data2.reset_index(drop=True)\n",
    "print(data2.head(10))"
   ]
  },
  {
   "cell_type": "code",
   "execution_count": 9,
   "metadata": {},
   "outputs": [],
   "source": [
    "# Превратим х и у в отдельные массивы\n",
    "pr = data2['Pres']\n",
    "sl = data2['Salinity']"
   ]
  },
  {
   "cell_type": "code",
   "execution_count": 10,
   "metadata": {},
   "outputs": [
    {
     "data": {
      "image/png": "[encoded data removed]",
      "text/plain": [
       "<Figure size 432x288 with 1 Axes>"
      ]
     },
     "metadata": {
      "needs_background": "light"
     },
     "output_type": "display_data"
    }
   ],
   "source": [
    "# Отобразим исходные точки на плоскости\n",
    "plt.scatter(pr, sl)\n",
    "plt.xlabel('Pres')\n",
    "plt.ylabel('Salinity')\n",
    "plt.xlim(0)\n",
    "plt.show()"
   ]
  },
  {
   "cell_type": "code",
   "execution_count": 24,
   "metadata": {},
   "outputs": [],
   "source": [
    "# Воспользуемся методом Лагранжа, предварительно построив полиномы Лагранжа\n",
    "pr_new = np.linspace(pr.min(), pr.max(), 60)\n",
    "q = len(pr)\n",
    "m = len(pr_new)\n",
    "sl_new = np.zeros(m)\n",
    "\n",
    "for n in range(m):\n",
    "    s = 0\n",
    "    for i in range(q):\n",
    "        p = 1\n",
    "        for j in range(q):\n",
    "            if i != j:\n",
    "                p *= (pr_new[n] - pr[j]) / (pr[i] - pr[j])\n",
    "        s += sl[i] * p\n",
    "    sl_new[n] = s"
   ]
  },
  {
   "cell_type": "code",
   "execution_count": 33,
   "metadata": {},
   "outputs": [
    {
     "data": {
      "image/png": "[encoded data removed]",
      "text/plain": [
       "<Figure size 432x288 with 1 Axes>"
      ]
     },
     "metadata": {
      "needs_background": "light"
     },
     "output_type": "display_data"
    }
   ],
   "source": [
    "# Строим график\n",
    "plt.scatter(pr, sl)\n",
    "plt.plot(pr_new, sl_new)\n",
    "plt.title('Lagrange polynomial')\n",
    "plt.xlabel('Pres')\n",
    "plt.ylabel('Salinity')\n",
    "plt.xlim(0)\n",
    "plt.ylim(0, sl.max())\n",
    "plt.show()"
   ]
  }
 ],
 "metadata": {
  "kernelspec": {
   "display_name": "Python 3",
   "language": "python",
   "name": "python3"
  },
  "language_info": {
   "codemirror_mode": {
    "name": "ipython",
    "version": 3
   },
   "file_extension": ".py",
   "mimetype": "text/x-python",
   "name": "python",
   "nbconvert_exporter": "python",
   "pygments_lexer": "ipython3",
   "version": "3.8.5"
  }
 },
 "nbformat": 4,
 "nbformat_minor": 4
}
