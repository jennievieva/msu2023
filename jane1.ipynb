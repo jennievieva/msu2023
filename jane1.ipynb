{
 "cells": [
  {
   "cell_type": "markdown",
   "metadata": {},
   "source": [
    "# Курсовая\n",
    "## Часть 1. Построение апроксимирующей прямой методом МНК"
   ]
  },
  {
   "cell_type": "code",
   "execution_count": 1,
   "metadata": {},
   "outputs": [],
   "source": [
    "# Импортируем необходимые библиотеки для выполнения курсовой работы\n",
    "import pandas as pd\n",
    "import matplotlib.pyplot as plt\n",
    "import numpy as np"
   ]
  },
  {
   "cell_type": "code",
   "execution_count": 2,
   "metadata": {},
   "outputs": [
    {
     "name": "stdout",
     "output_type": "stream",
     "text": [
      "    x      y\n",
      "0   0  10.20\n",
      "1  10  10.05\n",
      "2  20   9.95\n",
      "3  22   9.94\n",
      "4  30   9.92\n"
     ]
    }
   ],
   "source": [
    "# Загружаем данные из Excel-файла\n",
    "filename = 'part_1.xlsx'\n",
    "data = pd.read_excel(filename)\n",
    "print(data.head())"
   ]
  },
  {
   "cell_type": "code",
   "execution_count": 3,
   "metadata": {},
   "outputs": [],
   "source": [
    "# Превратим х и у в отдельные массивы для вычислений и отрисовки на графике\n",
    "x = data['x']\n",
    "y = data['y']"
   ]
  },
  {
   "cell_type": "markdown",
   "metadata": {},
   "source": [
    "Выведем формулы МНК для вычисления коэффициентов k и b.\n",
    "\n",
    "Общая формула прямой:\n",
    "$ y = kx + b $\n",
    "\n",
    "Хотим, чтобы\n",
    "$ L(y, \\hat{y}) = \\sum \\limits _{i=1} ^{n} (y_{i} - \\hat{y_{i}})^2 \\rightarrow min$\n",
    "\n",
    "$y_i$ - это точка взятая из таблицы, $\\hat{y_i}$ - это точка, принадлежащая искомой прямой. \n",
    "\n",
    "$ \\hat{y_i} = \\hat{k}x_i + \\hat{b} $\n",
    "\n",
    "Чтобы найти коэффициент b, продифференцируем $\\sum\\limits_{i=1}^{n}(y_{i} - \\hat{y_{i}})^2$ по b.\n",
    "\n",
    "$\\frac{d}{db} (\\sum \\limits _{i=1} ^{n} (y_{i} - \\hat{y_{i}})^2) = -2 \\sum\\limits_{i=1}^{n}(y_i - \\hat{b} - \\hat{k}x_i) = 0$\n",
    "\n",
    "$ \\hat{b} = \\frac{\\sum\\limits_{i=1}^{n}y_i - \\sum\\limits_{i=1}^{n}\\hat{k}x_i}{n} $\n",
    "\n",
    "Учтем, что\n",
    "$ \\overline{y} = \\sum\\limits_{i=1}^{n}y_i $ и $ \\overline{x} = \\sum\\limits_{i=1}^{n}x_i $\n",
    "\n",
    "Получим\n",
    "$ \\hat{b} = \\overline{y} - \\hat{k} \\overline{x}$\n",
    "\n",
    "Аналогично ищем коэффициент k, беря производную от $\\sum \\limits _{i=1} ^{n} (y_{i} - \\hat{y_{i}})^2$ по k, подставляя уже найденный коэффициент b.\n",
    "\n",
    "В итоге получим следующую формулу:\n",
    "$ \\hat{k} = \\frac{\\sum\\limits_{i=1}^{n}((x_i - \\overline{x}) - (y_i - \\overline{y}))}{\\sum\\limits_{i=1}^{n}(x_i - \\overline{x})^2} $\n"
   ]
  },
  {
   "cell_type": "code",
   "execution_count": 13,
   "metadata": {},
   "outputs": [
    {
     "name": "stdout",
     "output_type": "stream",
     "text": [
      "-0.006658815665230282 9.555503209038605\n"
     ]
    }
   ],
   "source": [
    "# Посчитаем коэффициенты прямой по формулам выше\n",
    "# x_middle - это среднее значение по таблице x\n",
    "# y_middle - это среднее значение по таблице y\n",
    "n = len(x)\n",
    "x_middle = sum(x)/n\n",
    "y_middle = sum(y)/n\n",
    "k = sum((x - x_middle) * (y - y_middle))/sum((x - x_middle) ** 2)\n",
    "b = y_middle - k*x_middle\n",
    "print(k, b)"
   ]
  },
  {
   "cell_type": "code",
   "execution_count": 15,
   "metadata": {},
   "outputs": [
    {
     "data": {
      "image/png": "[encoded data removed]",
      "text/plain": [
       "<Figure size 432x288 with 1 Axes>"
      ]
     },
     "metadata": {
      "needs_background": "light"
     },
     "output_type": "display_data"
    }
   ],
   "source": [
    "# Построим график\n",
    "f = k*x + b\n",
    "plt.scatter(x, y)\n",
    "plt.plot(x, f, color = 'red')\n",
    "plt.title(\"Аппроксимирующая прямая\")\n",
    "plt.xlabel('x')\n",
    "plt.ylabel('y')\n",
    "plt.xlim(0, x.max())\n",
    "plt.show()"
   ]
  },
  {
   "cell_type": "markdown",
   "metadata": {},
   "source": [
    "### Вывод\n",
    "Метод наименьших квадратов (МНК) используется для аппроксимации данных, то есть для поиска зависимости между переменными. Этот метод используется для прогнозирования будущих значений и построения моделей, которые могут быть использованы для анализа данных и принятия решений. Он также может использоваться для обработки сигналов, оптимизации функций и других приложений в области математики, науки, инженерии и физики.\n",
    "\n",
    "Нам удалось успешно посчитать и построить аппроксимирующую прямую с помощью МНК, используя библиотеки Python: pandas (для чтения и работы с табличными даннами), numpy (для работами с массивами) и matplotlib (для построения графиков). "
   ]
  },
  {
   "cell_type": "markdown",
   "metadata": {},
   "source": [
    "## Часть 2. Вычисление полинома Лагранжа"
   ]
  },
  {
   "cell_type": "code",
   "execution_count": 6,
   "metadata": {},
   "outputs": [
    {
     "name": "stdout",
     "output_type": "stream",
     "text": [
      "   Salinity  Pres\n",
      "0     233.0     0\n",
      "1     232.5     8\n",
      "2     232.8    10\n",
      "3     234.1    19\n",
      "4     234.0    20\n",
      "5       NaN    30\n",
      "6     233.0    39\n",
      "7     231.0    50\n",
      "8     228.5    58\n",
      "9     220.1    75\n"
     ]
    }
   ],
   "source": [
    "# Загружаем данные из Excel-файла\n",
    "filename2 = 'part_2.xlsx'\n",
    "data2 = pd.read_excel(filename2)\n",
    "print(data2.head(10))"
   ]
  },
  {
   "cell_type": "code",
   "execution_count": 7,
   "metadata": {},
   "outputs": [
    {
     "name": "stdout",
     "output_type": "stream",
     "text": [
      "   Salinity  Pres\n",
      "0     233.0     0\n",
      "1     232.5     8\n",
      "2     232.8    10\n",
      "3     234.1    19\n",
      "4     234.0    20\n",
      "5     233.0    39\n",
      "6     231.0    50\n",
      "7     228.5    58\n",
      "8     220.1    75\n",
      "9     218.6    78\n"
     ]
    }
   ],
   "source": [
    "# Избавимся от строчек с неопределёнными значениями\n",
    "data2 = data2.dropna()\n",
    "data2 = data2.reset_index(drop=True)\n",
    "print(data2.head(10))"
   ]
  },
  {
   "cell_type": "code",
   "execution_count": 8,
   "metadata": {},
   "outputs": [],
   "source": [
    "# Превратим столбцы Pres и Salinity в отдельные массивы для вычислений и отрисовки на графике\n",
    "# Будем считать, что Pres - это x, а Salinity - y. \n",
    "pr = data2['Pres']\n",
    "sl = data2['Salinity']"
   ]
  },
  {
   "cell_type": "code",
   "execution_count": 9,
   "metadata": {},
   "outputs": [
    {
     "data": {
      "image/png": "[encoded data removed]",
      "text/plain": [
       "<Figure size 432x288 with 1 Axes>"
      ]
     },
     "metadata": {
      "needs_background": "light"
     },
     "output_type": "display_data"
    }
   ],
   "source": [
    "# Отобразим исходные точки на плоскости\n",
    "plt.scatter(pr, sl)\n",
    "plt.xlabel('Pres')\n",
    "plt.ylabel('Salinity')\n",
    "plt.xlim(0)\n",
    "plt.show()"
   ]
  },
  {
   "cell_type": "code",
   "execution_count": 10,
   "metadata": {},
   "outputs": [],
   "source": [
    "# Воспользуемся методом Лагранжа, предварительно построив полиномы Лагранжа\n",
    "pr_new = np.linspace(pr.min(), pr.max(), 60)\n",
    "q = len(pr)\n",
    "m = len(pr_new)\n",
    "sl_new = np.zeros(m)\n",
    "\n",
    "for n in range(m):\n",
    "    s = 0\n",
    "    for i in range(q):\n",
    "        p = 1\n",
    "        for j in range(q):\n",
    "            if i != j:\n",
    "                p *= (pr_new[n] - pr[j]) / (pr[i] - pr[j])\n",
    "        s += sl[i] * p\n",
    "    sl_new[n] = s"
   ]
  },
  {
   "cell_type": "code",
   "execution_count": 16,
   "metadata": {},
   "outputs": [
    {
     "data": {
      "image/png": "[encoded data removed]",
      "text/plain": [
       "<Figure size 432x288 with 1 Axes>"
      ]
     },
     "metadata": {
      "needs_background": "light"
     },
     "output_type": "display_data"
    }
   ],
   "source": [
    "# Строим график\n",
    "plt.scatter(pr, sl)\n",
    "plt.plot(pr_new, sl_new)\n",
    "plt.title('Полином Лагранжа')\n",
    "plt.xlabel('Pres')\n",
    "plt.ylabel('Salinity')\n",
    "plt.xlim(0)\n",
    "plt.ylim(0, sl.max())\n",
    "plt.show()"
   ]
  },
  {
   "cell_type": "markdown",
   "metadata": {},
   "source": [
    "### Вывод\n",
    "Интерполяционный метод Лагранжа используется для приближения функции по набору известных значений в заданных точках. С помощью этого метода можно получить аналитическую формулу для функции, которая проходит через эти точки. Это позволяет упростить дальнейшие вычисления и прогнозирование значений функции в других точках, а также использовать полученную формулу для аппроксимации данных в дальнейшей работе. Интерполяционный метод Лагранжа широко применяется в математическом моделировании, научной и инженерной практике.\n",
    "\n",
    "Нам удалось успешно провести интерполяцию с помощью метода Лагранжа, используя библиотеки Python: pandas (для чтения и работы с табличными даннами), numpy (для работами с массивами) и matplotlib (для построения графиков). "
   ]
  }
 ],
 "metadata": {
  "kernelspec": {
   "display_name": "Python 3",
   "language": "python",
   "name": "python3"
  },
  "language_info": {
   "codemirror_mode": {
    "name": "ipython",
    "version": 3
   },
   "file_extension": ".py",
   "mimetype": "text/x-python",
   "name": "python",
   "nbconvert_exporter": "python",
   "pygments_lexer": "ipython3",
   "version": "3.8.5"
  }
 },
 "nbformat": 4,
 "nbformat_minor": 4
}
